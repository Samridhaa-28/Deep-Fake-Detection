{
 "cells": [
  {
   "cell_type": "code",
   "execution_count": 2,
   "metadata": {},
   "outputs": [
    {
     "name": "stdout",
     "output_type": "stream",
     "text": [
      "PyTorch version: 2.2.0+cu121\n",
      "Torchvision version: 0.17.0+cu121\n",
      "CUDA available: True\n",
      "CUDA version: 12.1\n",
      "Device name: NVIDIA GeForce RTX 3050 Laptop GPU\n"
     ]
    }
   ],
   "source": [
    "import torch\n",
    "import torchvision\n",
    "\n",
    "print(\"PyTorch version:\", torch.__version__)\n",
    "print(\"Torchvision version:\", torchvision.__version__)\n",
    "print(\"CUDA available:\", torch.cuda.is_available())\n",
    "if torch.cuda.is_available():\n",
    "    print(\"CUDA version:\", torch.version.cuda)\n",
    "    print(\"Device name:\", torch.cuda.get_device_name(0))"
   ]
  },
  {
   "cell_type": "code",
   "execution_count": 19,
   "metadata": {},
   "outputs": [
    {
     "name": "stdout",
     "output_type": "stream",
     "text": [
      "Error: Path not found → D:\\DL package\\venv\\DL Dataset\\Celeb-real\n"
     ]
    }
   ],
   "source": [
    "import os\n",
    "\n",
    "def count_videos():\n",
    "            # Fake videos\n",
    "    celeb_real_folder = r\"D:\\DL package\\venv\\DL Dataset\\Celeb-real\"    # Real videos\n",
    "    youtube_real_folder = r\"D:\\DL package\\venv\\DL Dataset\\YouTube-real\"  # Real videos\n",
    "    celeb_fake_folder=r\"D:\\DL package\\venv\\DL Dataset\\Celeb-synthesis\"\n",
    "\n",
    "    # Check if paths exist\n",
    "    for folder in [celeb_real_folder, youtube_real_folder,celeb_fake_folder]:\n",
    "        if not os.path.exists(folder):\n",
    "            print(f\"Error: Path not found → {folder}\")\n",
    "            return\n",
    "\n",
    "    # Count videos in each folder\n",
    "    def count_folder_videos(folder):\n",
    "        return len([f for f in os.listdir(folder) if f.endswith(('.mp4', '.avi', '.mov'))])\n",
    "\n",
    "    \n",
    "    celeb_real_count = count_folder_videos(celeb_real_folder)\n",
    "    youtube_real_count = count_folder_videos(youtube_real_folder)\n",
    "    celeb_fake_count= count_folder_videos(celeb_fake_folder)\n",
    "\n",
    "    \n",
    "    print(f\"Celeb-Real (Real): {celeb_real_count}\")\n",
    "    print(f\"YouTube-Real (Real): {youtube_real_count}\")\n",
    "    print(f\"Celeb-Fake (Fake): {celeb_fake_count}\")\n",
    "\n",
    "if __name__ == '__main__':\n",
    "    count_videos()\n"
   ]
  },
  {
   "cell_type": "markdown",
   "metadata": {},
   "source": [
    "Data Loading"
   ]
  },
  {
   "cell_type": "code",
   "execution_count": 5,
   "metadata": {},
   "outputs": [
    {
     "name": "stdout",
     "output_type": "stream",
     "text": [
      "Total Real Frames: 9864\n",
      "Total Fake Frames: 9898\n",
      "Train: 15809, Validation: 1976, Test: 1977\n"
     ]
    }
   ],
   "source": [
    "import os\n",
    "import torch\n",
    "import random\n",
    "from torchvision import transforms\n",
    "from torch.utils.data import Dataset, DataLoader\n",
    "\n",
    "# Define paths\n",
    "DATASET_DIR = r'D:\\DL package\\venv\\frames'\n",
    "REAL_DIR = os.path.join(DATASET_DIR, 'real')\n",
    "FAKE_DIR = os.path.join(DATASET_DIR, 'fake')\n",
    "\n",
    "# Count real and fake video frames\n",
    "num_real = len([f for f in os.listdir(REAL_DIR) if f.endswith('.pt')])\n",
    "num_fake = len([f for f in os.listdir(FAKE_DIR) if f.endswith('.pt')])\n",
    "\n",
    "print(f\"Total Real Frames: {num_real}\")\n",
    "print(f\"Total Fake Frames: {num_fake}\")\n",
    "\n",
    "class DeepFakeDataset(Dataset):\n",
    "    def __init__(self, files, transform=None, preload=True):\n",
    "        self.transform = transform\n",
    "        self.preload = preload\n",
    "\n",
    "        if preload:\n",
    "            # Preload all files into memory\n",
    "            self.data = [torch.load(f) for f in files]\n",
    "        else:\n",
    "            self.files = files\n",
    "\n",
    "    def __len__(self):\n",
    "        return len(self.data if self.preload else self.files)\n",
    "\n",
    "    def __getitem__(self, idx):\n",
    "        if self.preload:\n",
    "            data = self.data[idx]\n",
    "        else:\n",
    "            file_path = self.files[idx]\n",
    "            data = torch.load(file_path)\n",
    "        \n",
    "        frame, label = data['frame'], data['label']\n",
    "        if self.transform:\n",
    "            frame = self.transform(frame)\n",
    "        \n",
    "        return frame, label\n",
    "\n",
    "\n",
    "# Define augmentation (for training only)\n",
    "augmentation = transforms.Compose([\n",
    "    transforms.RandomResizedCrop(224, scale=(0.9, 1.0)),  # Minor crop to preserve facial artifacts\n",
    "    transforms.ColorJitter(brightness=0.1, contrast=0.1, saturation=0.05),  # Subtle adjustments\n",
    "    transforms.GaussianBlur(kernel_size=3),  # Mimic compression blur\n",
    "    transforms.RandomApply([transforms.Lambda(lambda x: x + 0.02 * torch.randn_like(x))], p=0.3),  # Small Gaussian noise\n",
    "])\n",
    "\n",
    "# Get all file paths\n",
    "real_files = [os.path.join(REAL_DIR, f) for f in os.listdir(REAL_DIR) if f.endswith('.pt')]\n",
    "fake_files = [os.path.join(FAKE_DIR, f) for f in os.listdir(FAKE_DIR) if f.endswith('.pt')]\n",
    "all_files = real_files + fake_files\n",
    "\n",
    "# Shuffle before splitting\n",
    "random.shuffle(all_files)\n",
    "\n",
    "# Split into train (80%), validation (10%), and test (10%)\n",
    "train_size = int(0.8 * len(all_files))\n",
    "val_size = int(0.1 * len(all_files))\n",
    "test_size = len(all_files) - train_size - val_size\n",
    "\n",
    "train_files = all_files[:train_size]\n",
    "val_files = all_files[train_size:train_size + val_size]\n",
    "test_files = all_files[train_size + val_size:]\n",
    "\n",
    "# Create datasets\n",
    "\n",
    "def collate_fn(batch):\n",
    "    \"\"\"\n",
    "    Custom collate function to reshape inputs into 5D tensors\n",
    "    \"\"\"\n",
    "    frames, labels = zip(*batch)  # Extract frames and labels\n",
    "    frames = torch.stack(frames)  # (batch_size, channels, height, width)\n",
    "    \n",
    "    # Reshape into 5D tensor: (batch_size, seq_length=1, channels, height, width)\n",
    "    frames = frames.unsqueeze(1)  # Add seq_length=1 dimension\n",
    "    \n",
    "    labels = torch.tensor(labels)  # Convert labels to tensor\n",
    "    \n",
    "    return frames, labels\n",
    "\n",
    "\n",
    "# Create DataLoaders\n",
    "# Preload the dataset into memory\n",
    "train_dataset = DeepFakeDataset(train_files, transform=augmentation, preload=True)\n",
    "val_dataset = DeepFakeDataset(val_files, transform=None, preload=True)\n",
    "test_dataset = DeepFakeDataset(test_files, transform=None, preload=True)\n",
    "\n",
    "batch_size = 32\n",
    "train_loader = DataLoader(train_dataset, batch_size=batch_size, shuffle=True,collate_fn=collate_fn, num_workers=4, pin_memory=True)\n",
    "val_loader = DataLoader(val_dataset, batch_size=batch_size, shuffle=False,collate_fn=collate_fn, num_workers=4, pin_memory=True)\n",
    "test_loader = DataLoader(test_dataset, batch_size=batch_size, shuffle=False,collate_fn=collate_fn)\n",
    "\n",
    "print(f\"Train: {len(train_dataset)}, Validation: {len(val_dataset)}, Test: {len(test_dataset)}\")\n"
   ]
  }
 ],
 "metadata": {
  "kernelspec": {
   "display_name": "venv",
   "language": "python",
   "name": "python3"
  },
  "language_info": {
   "codemirror_mode": {
    "name": "ipython",
    "version": 3
   },
   "file_extension": ".py",
   "mimetype": "text/x-python",
   "name": "python",
   "nbconvert_exporter": "python",
   "pygments_lexer": "ipython3",
   "version": "3.12.4"
  }
 },
 "nbformat": 4,
 "nbformat_minor": 2
}
