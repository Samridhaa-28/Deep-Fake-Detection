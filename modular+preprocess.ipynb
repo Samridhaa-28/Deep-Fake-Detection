{
 "cells": [
  {
   "cell_type": "code",
   "execution_count": 105,
   "id": "29e88849",
   "metadata": {},
   "outputs": [
    {
     "name": "stdout",
     "output_type": "stream",
     "text": [
      "Total Real Frames: 500\n",
      "Total Fake Frames: 500\n"
     ]
    }
   ],
   "source": [
    "import torch\n",
    "import torch.nn as nn\n",
    "import torch.optim as optim\n",
    "from torchvision import models\n",
    "import torch.amp as amp\n",
    "from torch.utils.data import DataLoader\n",
    "import random\n",
    "import os\n",
    "from torchvision import transforms\n",
    "from torch.utils.data import Dataset\n",
    "import matplotlib.pyplot as plt\n",
    "\n",
    "# Define paths\n",
    "DATASET_DIR = r'dataset_small'\n",
    "REAL_DIR = os.path.join(DATASET_DIR, 'real')\n",
    "FAKE_DIR = os.path.join(DATASET_DIR, 'fake')\n",
    "\n",
    "# Count real and fake video frames\n",
    "num_real = len([f for f in os.listdir(REAL_DIR) if f.endswith('.pt')])\n",
    "num_fake = len([f for f in os.listdir(FAKE_DIR) if f.endswith('.pt')])\n",
    "\n",
    "print(f\"Total Real Frames: {num_real}\")\n",
    "print(f\"Total Fake Frames: {num_fake}\")\n"
   ]
  },
  {
   "cell_type": "code",
   "execution_count": 106,
   "id": "6581fcb8",
   "metadata": {},
   "outputs": [],
   "source": [
    "augmentation = transforms.Compose([\n",
    "    transforms.RandomHorizontalFlip(),\n",
    "    transforms.RandomRotation(15),\n",
    "    transforms.RandomAffine(degrees=15, translate=(0.1, 0.1), scale=(0.8, 1.2)),\n",
    "    transforms.ColorJitter(brightness=0.2, contrast=0.2, saturation=0.1),\n",
    "    transforms.RandomResizedCrop(224, scale=(0.8, 1.0)),\n",
    "    transforms.GaussianBlur(3),\n",
    "    transforms.RandomApply([transforms.Lambda(lambda x: x + 0.02 * torch.randn_like(x))], p=0.3),\n",
    "    transforms.RandomErasing(p=0.5, scale=(0.02, 0.25), ratio=(0.3, 3.3)),\n",
    "    transforms.Normalize(mean=[0.485, 0.456, 0.406], \n",
    "                         std=[0.229, 0.224, 0.225])  \n",
    "])\n"
   ]
  },
  {
   "cell_type": "code",
   "execution_count": 107,
   "id": "eae2f733",
   "metadata": {},
   "outputs": [],
   "source": [
    "# Dataset class\n",
    "class DeepFakeDataset(Dataset):\n",
    "    def __init__(self, files, transform=None, preload=True):\n",
    "        self.transform = transform\n",
    "        self.preload = preload\n",
    "        if preload:\n",
    "            self.data = [torch.load(f) for f in files]\n",
    "        else:\n",
    "            self.files = files\n",
    "\n",
    "    def __len__(self):\n",
    "        return len(self.data if self.preload else self.files)\n",
    "\n",
    "    def __getitem__(self, idx):\n",
    "        if self.preload:\n",
    "            data = self.data[idx]\n",
    "        else:\n",
    "            file_path = self.files[idx]\n",
    "            data = torch.load(file_path)\n",
    "        \n",
    "        frame, label = data['frame'], data['label']\n",
    "        if self.transform:\n",
    "            frame = self.transform(frame)\n",
    "        \n",
    "        return frame, label\n"
   ]
  },
  {
   "cell_type": "code",
   "execution_count": 108,
   "id": "ffeada94",
   "metadata": {},
   "outputs": [
    {
     "name": "stdout",
     "output_type": "stream",
     "text": [
      "Train set: 800 files (Real: 400, Fake: 400)\n",
      "Validation set: 100 files (Real: 50, Fake: 50)\n",
      "Test set: 100 files (Real: 50, Fake: 50)\n"
     ]
    }
   ],
   "source": [
    "from sklearn.model_selection import train_test_split\n",
    "\n",
    "# Ensure your real and fake lists are defined\n",
    "real_files = [os.path.join(REAL_DIR, f) for f in os.listdir(REAL_DIR) if f.endswith('.pt')]\n",
    "fake_files = [os.path.join(FAKE_DIR, f) for f in os.listdir(FAKE_DIR) if f.endswith('.pt')]\n",
    "\n",
    "# Split real and fake independently\n",
    "real_train, real_temp = train_test_split(real_files, test_size=0.2, random_state=42)  # 80% train\n",
    "fake_train, fake_temp = train_test_split(fake_files, test_size=0.2, random_state=42)\n",
    "\n",
    "# Then split the remaining 20% equally into val and test\n",
    "real_val, real_test = train_test_split(real_temp, test_size=0.5, random_state=42)  # 10% val, 10% test\n",
    "fake_val, fake_test = train_test_split(fake_temp, test_size=0.5, random_state=42)\n",
    "\n",
    "# Combine real and fake back together\n",
    "train_files = real_train + fake_train\n",
    "val_files = real_val + fake_val\n",
    "test_files = real_test + fake_test\n",
    "\n",
    "# Shuffle the splits\n",
    "random.shuffle(train_files)\n",
    "random.shuffle(val_files)\n",
    "random.shuffle(test_files)\n",
    "\n",
    "# Sanity check\n",
    "print(f\"Train set: {len(train_files)} files (Real: {len(real_train)}, Fake: {len(fake_train)})\")\n",
    "print(f\"Validation set: {len(val_files)} files (Real: {len(real_val)}, Fake: {len(fake_val)})\")\n",
    "print(f\"Test set: {len(test_files)} files (Real: {len(real_test)}, Fake: {len(fake_test)})\")\n"
   ]
  },
  {
   "cell_type": "code",
   "execution_count": 109,
   "id": "0bea50eb",
   "metadata": {},
   "outputs": [],
   "source": [
    "def collate_fn(batch):\n",
    "    frames, labels = zip(*batch)\n",
    "    frames = torch.stack(frames)\n",
    "    frames = frames.unsqueeze(1)\n",
    "    labels = torch.tensor(labels)\n",
    "    return frames, labels"
   ]
  },
  {
   "cell_type": "code",
   "execution_count": 110,
   "id": "4b75f6ba",
   "metadata": {},
   "outputs": [],
   "source": [
    "# Create datasets\n",
    "train_dataset = DeepFakeDataset(train_files, transform=augmentation, preload=True)\n",
    "val_dataset = DeepFakeDataset(val_files, transform=None, preload=True)\n",
    "test_dataset = DeepFakeDataset(test_files, transform=None, preload=True)\n"
   ]
  },
  {
   "cell_type": "code",
   "execution_count": 111,
   "id": "9c0955a7",
   "metadata": {},
   "outputs": [],
   "source": [
    "# Create DataLoaders\n",
    "batch_size = 32\n",
    "train_loader = DataLoader(train_dataset, batch_size=batch_size, shuffle=True, collate_fn=collate_fn, num_workers=0, pin_memory=True)\n",
    "val_loader = DataLoader(val_dataset, batch_size=batch_size, shuffle=False, collate_fn=collate_fn, num_workers=0, pin_memory=True)\n",
    "test_loader = DataLoader(test_dataset, batch_size=batch_size, shuffle=False, collate_fn=collate_fn)"
   ]
  },
  {
   "cell_type": "code",
   "execution_count": 112,
   "id": "8777a33e",
   "metadata": {},
   "outputs": [],
   "source": [
    "# Model Definition\n",
    "class DeepFakeDetector(nn.Module):\n",
    "    def __init__(self, num_classes=1, latent_dim=2048, lstm_layers=2, hidden_dim=1024, bidirectional=True, dropout_prob=0.3):\n",
    "        super(DeepFakeDetector, self).__init__()\n",
    "        \n",
    "        resnext = models.resnext50_32x4d(weights=models.ResNeXt50_32X4D_Weights.DEFAULT)\n",
    "        self.feature_extractor = nn.Sequential(*list(resnext.children())[:-2])\n",
    "        # self.feature_extractor = models.resnext50_32x4d(pretrained=True)\n",
    "        # Freezing all layers initially\n",
    "        for param in self.feature_extractor.parameters():\n",
    "            param.requires_grad = False  # Freezing layers initially\n",
    "        self.avgpool = nn.AdaptiveAvgPool2d(1)\n",
    "        \n",
    "        self.lstm = nn.LSTM(\n",
    "            latent_dim, hidden_dim, lstm_layers,\n",
    "            batch_first=True, bidirectional=bidirectional, dropout=dropout_prob\n",
    "        )\n",
    "        \n",
    "        lstm_output_dim = hidden_dim * 2 if bidirectional else hidden_dim\n",
    "        self.fc = nn.Linear(lstm_output_dim, num_classes)\n",
    "        self.leaky_relu = nn.LeakyReLU(0.1)\n",
    "        self.dropout = nn.Dropout(dropout_prob)\n",
    "\n",
    "    def forward(self, x):\n",
    "        batch_size, seq_len, c, h, w = x.shape\n",
    "        x = x.view(batch_size * seq_len, c, h, w)\n",
    "        x = self.feature_extractor(x)\n",
    "        x = self.avgpool(x).view(batch_size, seq_len, -1)\n",
    "        x, _ = self.lstm(x)\n",
    "        x = torch.mean(x, dim=1)\n",
    "        x = self.leaky_relu(x)\n",
    "        x = self.dropout(x)\n",
    "        return self.fc(x)"
   ]
  },
  {
   "cell_type": "code",
   "execution_count": 113,
   "id": "2fbd684f",
   "metadata": {},
   "outputs": [],
   "source": [
    "# Training Setup\n",
    "from torch.cuda.amp import GradScaler, autocast\n",
    "\n",
    "device = torch.device(\"cuda\" if torch.cuda.is_available() else \"cpu\")\n",
    "model = DeepFakeDetector(lstm_layers=2).to(device)\n",
    "criterion = nn.BCEWithLogitsLoss()\n",
    "optimizer = optim.AdamW(model.parameters(), lr=3e-4, weight_decay=1e-4)\n",
    "scaler = GradScaler()\n",
    "\n",
    "# Learning Rate Scheduler\n",
    "scheduler = optim.lr_scheduler.ReduceLROnPlateau(optimizer, mode='min', patience=2, factor=0.5)"
   ]
  },
  {
   "cell_type": "code",
   "execution_count": 114,
   "id": "207c2640",
   "metadata": {},
   "outputs": [
    {
     "name": "stdout",
     "output_type": "stream",
     "text": [
      "Epoch [1/7] -> Train Loss: 0.6659, Train Acc: 0.6212, Val Loss: 0.6488, Val Acc: 0.6500\n",
      "Epoch [2/7] -> Train Loss: 0.5550, Train Acc: 0.7137, Val Loss: 0.6696, Val Acc: 0.6300\n",
      "Epoch [3/7] -> Train Loss: 0.4738, Train Acc: 0.7762, Val Loss: 0.4770, Val Acc: 0.8000\n",
      "Epoch [4/7] -> Train Loss: 0.4560, Train Acc: 0.8037, Val Loss: 0.4740, Val Acc: 0.7900\n",
      "Epoch [5/7] -> Train Loss: 0.3955, Train Acc: 0.8275, Val Loss: 0.4619, Val Acc: 0.7900\n",
      "Epoch [6/7] -> Train Loss: 0.4140, Train Acc: 0.8313, Val Loss: 0.4987, Val Acc: 0.7100\n",
      "Epoch [7/7] -> Train Loss: 0.1634, Train Acc: 0.9450, Val Loss: 0.3877, Val Acc: 0.8500\n"
     ]
    }
   ],
   "source": [
    "from torch import autocast\n",
    "from torch.cuda.amp import GradScaler\n",
    "# Hyperparameters\n",
    "num_epochs = 7\n",
    "train_losses, train_accs = [], []\n",
    "val_losses, val_accs = [], []\n",
    "\n",
    "# Initialize GradScaler for AMP\n",
    "scaler = GradScaler()\n",
    "\n",
    "# Training Loop\n",
    "for epoch in range(num_epochs):\n",
    "    model.train()\n",
    "    total_loss, correct, total = 0, 0, 0\n",
    "    if epoch == 5:  # After 5 warmup epochs\n",
    "        for param in model.feature_extractor.parameters():\n",
    "            param.requires_grad = True # Unfreeze layers after 5 epochs\n",
    "\n",
    "    for frames, labels in train_loader:\n",
    "        frames, labels = frames.to(device), labels.float().unsqueeze(1).to(device)\n",
    "\n",
    "        optimizer.zero_grad()\n",
    "        with autocast(device_type=\"cuda\" if torch.cuda.is_available() else \"cpu\"):\n",
    "            outputs = model(frames)\n",
    "            # Using BCEWithLogitsLoss for binary classification\n",
    "            loss = criterion(outputs, labels)\n",
    "\n",
    "        scaler.scale(loss).backward()\n",
    "        scaler.step(optimizer)\n",
    "        scaler.update()\n",
    "\n",
    "        total_loss += loss.item()\n",
    "        preds = (torch.sigmoid(outputs) > 0.5).float()\n",
    "        correct += (preds == labels).sum().item()\n",
    "        total += labels.size(0)\n",
    "\n",
    "    train_losses.append(total_loss / len(train_loader))\n",
    "    train_accs.append(correct / total)\n",
    "\n",
    "    # Validation Loop\n",
    "    model.eval()\n",
    "    val_loss, val_correct, val_total = 0, 0, 0\n",
    "    with torch.no_grad():\n",
    "        for frames, labels in val_loader:\n",
    "            frames, labels = frames.to(device), labels.float().unsqueeze(1).to(device)\n",
    "\n",
    "            with autocast(device_type=\"cuda\" if torch.cuda.is_available() else \"cpu\"):\n",
    "                outputs = model(frames)\n",
    "                loss = criterion(outputs, labels)\n",
    "\n",
    "            val_loss += loss.item()\n",
    "            preds = (torch.sigmoid(outputs) > 0.5).float()\n",
    "            val_correct += (preds == labels).sum().item()\n",
    "            val_total += labels.size(0)\n",
    "\n",
    "    val_losses.append(val_loss / len(val_loader))\n",
    "    val_accs.append(val_correct / val_total)\n",
    "    \n",
    "    # Update learning rate scheduler\n",
    "    scheduler.step(val_losses[-1])\n",
    "\n",
    "    # Print progress\n",
    "    print(f\"Epoch [{epoch+1}/{num_epochs}] -> Train Loss: {train_losses[-1]:.4f}, \"\n",
    "          f\"Train Acc: {train_accs[-1]:.4f}, Val Loss: {val_losses[-1]:.4f}, Val Acc: {val_accs[-1]:.4f}\")\n"
   ]
  },
  {
   "cell_type": "code",
   "execution_count": null,
   "id": "3610c0ec",
   "metadata": {},
   "outputs": [
    {
     "name": "stdout",
     "output_type": "stream",
     "text": [
      "Model Saved!\n"
     ]
    },
    {
     "data": {
      "image/png": "[encoded data removed]",
      "text/plain": [
       "<Figure size 1200x500 with 2 Axes>"
      ]
     },
     "metadata": {},
     "output_type": "display_data"
    }
   ],
   "source": [
    "# Save the model\n",
    "torch.save(model.state_dict(), r\"deepfake_detector.pth\")\n",
    "print(\"Model Saved!\")\n",
    "\n",
    "# Plot Loss and Accuracy Curves\n",
    "plt.figure(figsize=(12, 5))\n",
    "\n",
    "# Plot Loss Curve\n",
    "plt.subplot(1, 2, 1)\n",
    "plt.plot(range(num_epochs), train_losses, label=\"Train Loss\")\n",
    "plt.plot(range(num_epochs), val_losses, label=\"Val Loss\")\n",
    "plt.xlabel(\"Epochs\")\n",
    "plt.ylabel(\"Loss\")\n",
    "plt.title(\"Training vs Validation Loss\")\n",
    "plt.legend()\n",
    "\n",
    "# Plot Accuracy Curve\n",
    "plt.subplot(1, 2, 2)\n",
    "plt.plot(range(num_epochs), train_accs, label=\"Train Acc\")\n",
    "plt.plot(range(num_epochs), val_accs, label=\"Val Acc\")\n",
    "plt.xlabel(\"Epochs\")\n",
    "plt.ylabel(\"Accuracy\")\n",
    "plt.title(\"Training vs Validation Accuracy\")\n",
    "plt.legend()\n",
    "\n",
    "plt.show()"
   ]
  },
  {
   "cell_type": "code",
   "execution_count": 116,
   "id": "a45e4c00",
   "metadata": {},
   "outputs": [
    {
     "name": "stdout",
     "output_type": "stream",
     "text": [
      "Test Accuracy: 0.8100\n"
     ]
    }
   ],
   "source": [
    "import torch\n",
    "from sklearn.metrics import accuracy_score,confusion_matrix, classification_report\n",
    "\n",
    "# Set model to evaluation mode\n",
    "model.eval()\n",
    "\n",
    "all_preds = []\n",
    "all_labels = []\n",
    "\n",
    "# Turn off gradients for evaluation\n",
    "with torch.no_grad():\n",
    "    for frames, labels in test_loader:\n",
    "        frames = frames.to(device)\n",
    "        labels = labels.to(device)\n",
    "\n",
    "        outputs = model(frames)  # forward pass\n",
    "\n",
    "        # If outputs are probabilities/sigmoid — threshold at 0.5\n",
    "        preds = (outputs > 0.5).long()\n",
    "\n",
    "        all_preds.extend(preds.cpu().numpy())\n",
    "        all_labels.extend(labels.cpu().numpy())\n",
    "\n",
    "# Compute Accuracy\n",
    "test_acc = accuracy_score(all_labels, all_preds)\n",
    "print(f\"Test Accuracy: {test_acc:.4f}\")\n"
   ]
  },
  {
   "cell_type": "code",
   "execution_count": 117,
   "id": "775842cc",
   "metadata": {},
   "outputs": [
    {
     "name": "stdout",
     "output_type": "stream",
     "text": [
      "Confusion Matrix:\n",
      "[[45  5]\n",
      " [14 36]]\n"
     ]
    }
   ],
   "source": [
    "cm = confusion_matrix(all_labels, all_preds)\n",
    "print(\"Confusion Matrix:\")\n",
    "print(cm)"
   ]
  },
  {
   "cell_type": "code",
   "execution_count": 118,
   "id": "875b6265",
   "metadata": {},
   "outputs": [
    {
     "name": "stdout",
     "output_type": "stream",
     "text": [
      "\n",
      "Classification Report:\n",
      "               precision    recall  f1-score   support\n",
      "\n",
      "        Real       0.76      0.90      0.83        50\n",
      "        Fake       0.88      0.72      0.79        50\n",
      "\n",
      "    accuracy                           0.81       100\n",
      "   macro avg       0.82      0.81      0.81       100\n",
      "weighted avg       0.82      0.81      0.81       100\n",
      "\n"
     ]
    }
   ],
   "source": [
    "report = classification_report(all_labels, all_preds, target_names=[\"Real\", \"Fake\"])\n",
    "print(\"\\nClassification Report:\\n\", report)"
   ]
  }
 ],
 "metadata": {
  "kernelspec": {
   "display_name": "venv",
   "language": "python",
   "name": "python3"
  },
  "language_info": {
   "codemirror_mode": {
    "name": "ipython",
    "version": 3
   },
   "file_extension": ".py",
   "mimetype": "text/x-python",
   "name": "python",
   "nbconvert_exporter": "python",
   "pygments_lexer": "ipython3",
   "version": "3.12.4"
  }
 },
 "nbformat": 4,
 "nbformat_minor": 5
}
